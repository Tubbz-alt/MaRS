{
 "cells": [
  {
   "cell_type": "code",
   "execution_count": 23,
   "metadata": {},
   "outputs": [
    {
     "name": "stdout",
     "output_type": "stream",
     "text": [
      "980 14\n"
     ]
    }
   ],
   "source": [
    "f = open(\"Example_haplotype_data_sheet.txt\", \"r\")\n",
    "count=0\n",
    "ids=[]\n",
    "for line in f:\n",
    "    count+=1\n",
    "    if count>1:\n",
    "        ids+=line.split()[0]\n",
    "\n",
    "locinames = [\"CDC1\",\"CDC2\",\"CDC3\",\"CDC4\",\"X378_PART_A\",\"X378_PART_B\",\"X378_PART_C\", \n",
    "             \"X360i2_PART_A\",\"X360i2_PART_B\",\"X360i2_PART_C\",\"X360i2.PART_D\", \"Junction\",\"MSR_Left\",\"MSR_Right\"]\n",
    "\n",
    "locinames_base = [\"CDC1\",\"CDC2\",\"CDC3\",\"CDC4\",\"X378\",\"X360\",\"Junction\",\"MSR\"]\n",
    "\n",
    "ploidy = [2,2,2,2,2,2,2,2,2,2,2,1,1,1]\n",
    "\n",
    "nids = len(ids)\n",
    "nloci = len(locinames)\n",
    "\n",
    "print(nids,nloci)"
   ]
  },
  {
   "cell_type": "code",
   "execution_count": null,
   "metadata": {},
   "outputs": [],
   "source": []
  }
 ],
 "metadata": {
  "kernelspec": {
   "display_name": "Python 3",
   "language": "python",
   "name": "python3"
  },
  "language_info": {
   "codemirror_mode": {
    "name": "ipython",
    "version": 3
   },
   "file_extension": ".py",
   "mimetype": "text/x-python",
   "name": "python",
   "nbconvert_exporter": "python",
   "pygments_lexer": "ipython3",
   "version": "3.7.6"
  }
 },
 "nbformat": 4,
 "nbformat_minor": 4
}
